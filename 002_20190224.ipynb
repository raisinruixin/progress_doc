{
 "cells": [
  {
   "cell_type": "markdown",
   "metadata": {},
   "source": [
    "# Documentation #002"
   ]
  },
  {
   "cell_type": "markdown",
   "metadata": {},
   "source": [
    "It's a shame that I wasn't very productive for the past week. My attempts to fit sample data into the model were in vain, hence I can't talk much about it for #002, hopefully I can make it for #003. I realised that I wasn't able to demonstrate the dynamics of the model very well last week so I'm making up for it. And then I'll briefly discuss the idea of applying Bayes' rule to models and data."
   ]
  },
  {
   "cell_type": "markdown",
   "metadata": {},
   "source": [
    "## The dynamics of the model"
   ]
  },
  {
   "cell_type": "markdown",
   "metadata": {},
   "source": [
    "The DE for the model is as follows:\n",
    "\n",
    "$$\\frac{d\\left(EX\\right)}{dt} = -k_{er} \\cdot \\left(EX\\right)$$\n",
    "\n",
    "$$\\frac{d\\left(OS\\right)}{dt} = k_{er} \\cdot (RLR) \\cdot (EX) - k_p \\cdot (OS)$$\n",
    "\n",
    "$$\\frac{d(PD)}{dt} = k_p \\cdot (RRF) \\cdot (OS)$$\n",
    "\n",
    "$$\\text{where $EX$ is Exposure to risk, $OS$ is Outstanding claims, $PD$ is Paid claims}$$\n",
    "\n",
    "$$ \\text{ $k_{er}$ $=$ RATE at which claim events occur and subsequently reported to the insurer }$$\n",
    "\n",
    "$$ \\text{ $k_p$ $=$ RATE at which OS becomes paid by the insurer}$$\n",
    "\n",
    "$$ \\text{ $RLR$ $=$ PROPORTION of premiums that become reported claims}$$\n",
    "\n",
    "$$ \\text{ $RRF$ $=$ PROPORTION of outstanding claims that eventually become paid by the insurer.}$$\n"
   ]
  },
  {
   "cell_type": "markdown",
   "metadata": {},
   "source": [
    "The analytical solutions:\n",
    "$$EX\\left(t\\right) = P \\cdot e^{-k_{er}t}$$\n",
    "\n",
    "$$OS\\left(t\\right) = \\frac {P \\cdot RLR \\cdot k_{er}}{k_{er}-k_p} \\cdot \\left(e^{-k_pt}-e^{-k_{er}t}\\right)$$\n",
    "\n",
    "$$PD\\left(t\\right) = \\frac {P \\cdot RLR \\cdot RRF}{k_{er}-k_p} \\cdot \\big(k_{er} \\cdot \\left(1-e^{-k_pt}\\right)-k_p\\cdot \\left(1-e^{-k_{er}t}\\right)\\big)$$\n",
    "\n",
    "The dynamics of the model are represented by the graphs below. I should bring together how these state variables affect the reserves in the end as well as coming up with the ultimate losses."
   ]
  },
  {
   "cell_type": "code",
   "execution_count": 3,
   "metadata": {},
   "outputs": [
    {
     "data": {
      "application/vnd.jupyter.widget-view+json": {
       "model_id": "6750ae93eebd4efd9d47016d793c3e80",
       "version_major": 2,
       "version_minor": 0
      },
      "text/plain": [
       "interactive(children=(FloatSlider(value=1.3, description='ker:', max=10.0), FloatSlider(value=0.75, descriptio…"
      ]
     },
     "metadata": {},
     "output_type": "display_data"
    }
   ],
   "source": [
    "import ipywidgets as widgets\n",
    "import matplotlib.pyplot as plt\n",
    "import numpy as np\n",
    "\n",
    "t = np.linspace(0, 10, 1000)\n",
    "P = 100.0\n",
    "\n",
    "\n",
    "def update_plot(ker, kp, RLR, RRF):\n",
    "    '''\n",
    "    This function is linked to the sliders and\n",
    "    it replots the curves when the sliders are changed.\n",
    "    '''\n",
    "    #########################\n",
    "    #     GRAPH OUTLINE     #\n",
    "    #########################\n",
    "    fig, (ax1, ax2) = plt.subplots(2, figsize=(8,8))\n",
    "    plt.rcParams.update({'font.size':14})\n",
    "    ax1, ax2.clear()\n",
    "    \n",
    "    #####################\n",
    "    #     VARIABLES     #\n",
    "    #####################\n",
    "    # STATE VARIABLES\n",
    "    EX = P * np.exp(-ker * t)\n",
    "    OS = P * RLR * ker / (ker - kp) * (np.exp(-kp * t) - np.exp(-ker * t))\n",
    "    PD = P * RLR * RRF / (ker - kp) * (ker * (1 - np.exp(-kp * t)) - kp * (1 - np.exp(-ker * t)))\n",
    "    \n",
    "    INC = OS + PD\n",
    "    \n",
    "    # RESERVES\n",
    "    ExBNR = EX * RLR * RRF\n",
    "    RBNS = OS * RRF\n",
    "    reserves = ExBNR + RBNS\n",
    "    \n",
    "    IBNR = reserves - OS\n",
    "    \n",
    "    \n",
    "    ##########################\n",
    "    #     GRAPH PLOTTING     #\n",
    "    ##########################\n",
    "    # ax1\n",
    "    ax1.plot(t, EX, label='EX')\n",
    "    ax1.plot(t, OS, label='OS')\n",
    "    ax1.plot(t, PD, label='PD')\n",
    "    ax1.plot(t, INC, label='INC', linestyle='--', color='k')\n",
    "    ax1.legend(loc=1)\n",
    "    ax1.set_xlabel('Development time $(t)$')\n",
    "    ax1.set_ylabel('State-variable solutions')\n",
    "    ax1.set_xlim(t[0],t[999])\n",
    "    ax1.set_ylim(t[0])\n",
    "    \n",
    "    # ax2\n",
    "    ax2.plot(t, ExBNR, label='ExBNR', color='r')\n",
    "    ax2.plot(t, RBNS, label='RBNS', color='xkcd:brown')\n",
    "    ax2.plot(t, reserves, label='Reserves', linestyle='-.', color='k')\n",
    "    ax2.plot(t, IBNR, label='IBNR', linestyle='--', color='xkcd:grey')\n",
    "    ax2.legend(loc=1)\n",
    "    ax2.set_xlabel('Development time $(t)$')\n",
    "    ax2.set_ylabel('Reserves')\n",
    "    ax2.set_xlim(0,10)\n",
    "    \n",
    "    plt.tight_layout()\n",
    "    plt.show()\n",
    "    \n",
    "\n",
    "ker = widgets.FloatSlider(max=10, value=1.3, description='ker:')\n",
    "kp = widgets.FloatSlider(max=10, value=0.75, description='kp:')\n",
    "RLR = widgets.FloatSlider(max=1, value=0.7, description='RLR:')\n",
    "RRF = widgets.FloatSlider(max=10, value=0.7, description='RRF:')\n",
    "\n",
    "widgets.interactive(update_plot, ker=ker, kp=kp, RLR=RLR, RRF=RRF)"
   ]
  },
  {
   "cell_type": "markdown",
   "metadata": {},
   "source": [
    "- There are a few assumptions made for this model:\n",
    "    - It is assumed that steady-state conditions hold, i.e. policies coming on-risk are largely replaced by similar policies coming off risk, hence rate parameters are assumed to be constant over development time.\n",
    "    - Earned premiums are considered as exposures and all exposures are input at time 0, which reflects those at risk at the start of the accident year and we observe their development over time.\n",
    "    - These assumptions are made for simplicity for now and can be relaxed later in an advanced stage.\n",
    "    \n",
    "I'll first discuss about the graph on the top:\n",
    "1. The exposures are at their maximum at the beginning of an accident year. As time goes by, when accidents do happen, their state will change to outstanding, else the premium will be considered 'earned' by the company. Take note that there's only a proportion of exposures that will eventually become oustanding (I mean accidents can happen to everyone but will not happen to everyone will they?), hence the need for RLR. If RLR equals 1, then accidents do happen to everyone. Exposures will then gradually decrease to zero at which point the company is no more liable to the insureds.\n",
    "2. So when a proportion of exposed insured do encounter accidents, their state changes to outstanding. You can imagine this stage as waiting for the company to pay out claims, so they are setting aside money in order to fultill their liabilities. Think of it this way, the company is given an amount of money in advanced to pay for unfortunate events happening anytime in the future (policy effective period). There is a risk of accident happening everyday, so at the beginning of time the 'cummulative' risks until the end of time is higher than that during a later time. Say during the last few days of effective period, if nothing happens then the rest of the premium will be earned by the company. So the OS peak at the beginning sort of reflects this idea.\n",
    "3. The amount set aside to pay for claims might be inadequate or in excess, hence the role of RRF in this matter. (I'm not sure if this value can be greater than 1.0, I should ask for professional advice, but in my humble opinion, it can.) As claims get paid, the outstanding claims will get cleared and then return to zero, while cumulatively claims are paid and so PD will gradually increase until a certain point, where no more claims from the insured of the same accident year would come in, and then from there we can tell in the end how much in total the company has paid claims for this particular cohort.\n",
    "4. At any particular point of time, we can calculate the amount of incurred cases (where accidents happened and reported) by summing up OS and PD since they reflect those cases that are reported.\n",
    "$$INC(t) = OS(t) + PD(t)$$\n",
    "\n"
   ]
  },
  {
   "cell_type": "markdown",
   "metadata": {},
   "source": [
    "Now for the graph beneath, it's about the reserves.\n",
    "Those before are those that are reported, but the insurer needs to be prepared for those they are not notified of. Hence we need to do some extrapolation using the parameters RLR and RRF.\n",
    "\n",
    "$$ExBNR(t) = EX(t) \\cdot RLR \\cdot RRF$$\n",
    "\n",
    "$$RBNS(t) = OS(t) \\cdot RRF$$\n",
    "\n",
    "$$Reserve(t) = ExBNR(t) + RBNS(t)$$\n",
    "\n",
    "The reserves are made for known as well as unknown claims (aka IBNR: Incurred but not Reported). Since the reserve for known cases are reflected by OS(${t}$), we can extrapolate EX and OS to obtain information on the final amount to be paid and then we will know how much to allocate for unknown claims by taking out the amount for known cases from it. So we will extrapolate those in stages EX and OS to PD by multiplying RLR and RRF and obtain the reserve by summing both values. ExBNR is an abbreviation for Exposed but not Reported and RBNS and abbreviation for Reported but not Settled. Then,\n",
    "\n",
    "$$IBNR(t) = Reserve(t) - OS(t)$$\n",
    "\n",
    "\n",
    "In another way, we can extrapolate the ULTIMATE LOSSES by extrapolating the total exposures at the beginning:\n",
    "$$P\\cdot RLR \\cdot RRF$$\n",
    "\n",
    "and so IBNR(${t}$) can be equivalent to\n",
    "$$IBNR(t) =P\\cdot RLR \\cdot RRF - INC(t)$$\n"
   ]
  },
  {
   "cell_type": "markdown",
   "metadata": {
    "slideshow": {
     "slide_type": "-"
    }
   },
   "source": [
    "Again, there's a better way to do the plotting using bokeh if it's meant to be interactive (as in you can move the sliders and see the effects of changes in parameters to the model, but in github it's a dead HTML). I've had some troubles dealing with zero-division errors and a few other assumptions (which I've yet to find out) while exploring holoviews. Anyway I feel that I should at least do justice to the reasonable amount of time I've spent coming up with these few lines of codes, so I'll just use them here while planning to dump them in near future. (Dilemmas of a novice in programming)"
   ]
  },
  {
   "cell_type": "markdown",
   "metadata": {},
   "source": [
    "## The Bayes Rule"
   ]
  },
  {
   "cell_type": "markdown",
   "metadata": {},
   "source": [
    "$$\\Pr\\bigl( y \\bigm\\vert x \\bigr) = \\frac{p(x,y)}{p(x)}$$\n",
    "\n",
    "$$p(x,y) = \\Pr\\bigl( y \\bigm\\vert x \\bigr) \\cdot p(x)$$\n",
    "\n",
    "Similarly,\n",
    "\n",
    "$$\\Pr\\bigl( x \\bigm\\vert y \\bigr) = \\frac{p(x,y)}{p(y)}$$\n",
    "\n",
    "$$p(x,y) = \\Pr\\bigl( x \\bigm\\vert y \\bigr) \\cdot p(y)$$\n",
    "\n",
    "Hence,\n",
    "\n",
    "$$\\Pr\\bigl( y \\bigm\\vert x \\bigr) \\cdot p(x) = \\Pr\\bigl( x \\bigm\\vert y \\bigr) \\cdot p(y)$$\n",
    "\n",
    "$$\\Pr\\bigl( y \\bigm\\vert x \\bigr)= \\frac{\\Pr\\bigl( x \\bigm\\vert y \\bigr) \\cdot p(y)}{p(x)}$$\n",
    "\n",
    "$$\\Pr\\bigl( y \\bigm\\vert x \\bigr)= \\frac{\\Pr\\bigl( x \\bigm\\vert y \\bigr) \\cdot p(y)}{\\sum_{y}\\Pr\\bigl( x \\bigm\\vert y \\bigr) \\cdot p(y)}$$\n",
    "\n",
    "Substituting ${\\theta}$ as model parameter to ${y}$ and ${D}$ as data to ${x}$, we can see how we switch from probability of the data according to the model, to the probability of the model given the data.\n",
    "\n",
    "$$\\underbrace{\\Pr\\bigl( \\theta \\bigm\\vert D \\bigr)}_\\text{posterior}= \\frac{\\overbrace{\\Pr\\bigl( D \\bigm\\vert \\theta \\bigr)}^\\text{likelihood} \\cdot \\overbrace{p(\\theta)}^\\text{prior}}{\\underbrace{\\sum_{\\theta}\\Pr\\bigl( D \\bigm\\vert \\theta \\bigr) \\cdot p(\\theta)}_\\text{evidence}}$$\n",
    "\n",
    "For continuous variables, the Bayes' rule becomes \n",
    "$$\\Pr\\bigl( \\theta \\bigm\\vert D \\bigr)= \\frac{\\Pr\\bigl( D \\bigm\\vert \\theta \\bigr) \\cdot p(\\theta)}{\\int_{\\theta}\\Pr\\bigl( D \\bigm\\vert \\theta \\bigr) \\cdot p(\\theta)}$$\n",
    "\n",
    "\n",
    "\n"
   ]
  },
  {
   "cell_type": "markdown",
   "metadata": {},
   "source": [
    " - \"posterior\" is the strength of our belief in ${\\theta}$ when the data ${D}$ have been taken into account.\n",
    " - \"prior\" is the strength of our belief in ${\\theta}$ without the data ${D}$. \n",
    " - \"likelihood\" is the probability that the data ${D}$ could be generated by the model with parameter values ${\\theta}$.\n",
    " - \"evidence\" is the probability of the data ${D}$ according to the model, determined by summing across all possible parameter values ${\\theta}$ weighted by the strength of belief in those parameter values. As we can also see the \"evidence\" is restricting our attention to ${D}$ by summing across ${\\theta}$. Dividing the values by their sums is also called \"normalizing\" the values.\n",
    "\n",
    "The posterior above is only in the context of a particular model ${M}$, if we were to compare across different models, we can state our posterior as follows:\n",
    "\n",
    "$$\\underbrace{\\Pr\\bigl( \\theta \\bigm\\vert D,M \\bigr)}_\\text{posterior}= \\frac{\\overbrace{\\Pr\\bigl( D \\bigm\\vert \\theta,M \\bigr)}^\\text{likelihood} \\cdot \\overbrace{p(\\theta\\vert M)}^\\text{prior}}{\\underbrace{\\sum_{\\theta}\\Pr\\bigl( D \\bigm\\vert \\theta ,M \\bigr) \\cdot p(\\theta \\vert M)}_\\text{evidence}}$$\n",
    "\n",
    "$${\\Pr\\bigl( \\theta \\bigm\\vert D,M \\bigr)}= \\frac{{\\Pr\\bigl( D \\bigm\\vert \\theta,M \\bigr)} \\cdot {p(\\theta\\vert M)}}{p(D \\vert M)}$$\n",
    "\n",
    "${p(D \\vert M)}$ in this context means the evidence for model ${M}$. When considering for example models ${M_A}$ and ${M_B}$, \n",
    "\n",
    "$$\\Pr\\bigl( M_A \\bigm\\vert D \\bigr) = \\frac{p(D \\vert M_A) \\cdot p(M_A)}{p(D)}$$\n",
    "\n",
    "${p(D \\vert M_A)}$ refers to the likelihood of the model ${M_A}$ for the data ${D}$ and ${p(D)}$ refers to the evidence for the entire set of models.\n",
    "\n",
    "When we have observed some data, we can use Bayes' rule to determine our beliefs across competing parameter values in a model as well as to determine our beliefs across competing models. The posteriors are actually measures of our belief.\n",
    "\n",
    "\n"
   ]
  },
  {
   "cell_type": "markdown",
   "metadata": {},
   "source": [
    "## Next up"
   ]
  },
  {
   "cell_type": "markdown",
   "metadata": {},
   "source": [
    "- So far from above those are only simulations made from analytical solutions. \n",
    "- I will have to make it work with data (both frequentist modelling as well as bayesian modelling). Since I'll be fitting in data not for just one accident year but 10 accident years in the sample, we will probably be dealing with matrices. (Different earned premiums at the beginning, different parameters for each accident year)\n",
    "- Once fitting with data is possible only I can explore MCMC methods on bayesian modelling.\n",
    "- I will also justify the need for doing frequentist modelling as well. (It's now still a hypothesis)"
   ]
  }
 ],
 "metadata": {
  "kernelspec": {
   "display_name": "Python 3",
   "language": "python",
   "name": "python3"
  },
  "language_info": {
   "codemirror_mode": {
    "name": "ipython",
    "version": 3
   },
   "file_extension": ".py",
   "mimetype": "text/x-python",
   "name": "python",
   "nbconvert_exporter": "python",
   "pygments_lexer": "ipython3",
   "version": "3.5.2"
  }
 },
 "nbformat": 4,
 "nbformat_minor": 2
}
